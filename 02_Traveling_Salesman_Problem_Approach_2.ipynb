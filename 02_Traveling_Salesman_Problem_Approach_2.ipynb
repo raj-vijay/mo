{
  "nbformat": 4,
  "nbformat_minor": 0,
  "metadata": {
    "colab": {
      "name": "02. Traveling Salesman Problem - Approach 2.ipynb",
      "provenance": [],
      "collapsed_sections": [],
      "mount_file_id": "1wms_pvfpgBxenXOAXS4SOjjJLA-rfP91",
      "authorship_tag": "ABX9TyPFMwDjY0XQOYlmpNQzO0AW",
      "include_colab_link": true
    },
    "kernelspec": {
      "name": "python3",
      "display_name": "Python 3"
    }
  },
  "cells": [
    {
      "cell_type": "markdown",
      "metadata": {
        "id": "view-in-github",
        "colab_type": "text"
      },
      "source": [
        "<a href=\"https://colab.research.google.com/github/raj-vijay/mo/blob/master/02_Traveling_Salesman_Problem_Approach_2.ipynb\" target=\"_parent\"><img src=\"https://colab.research.google.com/assets/colab-badge.svg\" alt=\"Open In Colab\"/></a>"
      ]
    },
    {
      "cell_type": "markdown",
      "metadata": {
        "id": "qeza6f7YwHIZ"
      },
      "source": [
        "<h1> Metaheuristic Optimization </h1>"
      ]
    },
    {
      "cell_type": "markdown",
      "metadata": {
        "id": "Xb-ZuIvSwRGE"
      },
      "source": [
        "<h2>Traveling Salesman Problem (TSP) </h2>"
      ]
    },
    {
      "cell_type": "markdown",
      "metadata": {
        "id": "i1JJCv2bxxjz"
      },
      "source": [
        "<p align = 'justify'> <b>TravelingSalesmanProblem</b> </p> \n",
        "\n",
        "<p align = 'justify'>The Traveling Salesman Problem (TSP) asks the following question: “Given a list of cities and the distances between each pair of cities, what is the shortest possible route that visits each city and returns to the origin city?”. \n",
        "\n",
        "It is an NP-hard problem with important practical and theoretical questions in computer science. The input is a complete graph with weighted edges. \n",
        "\n",
        "For brevity each vertex v ∈V is given an x-coordinate x(v) and y-coordinate y(v). The weight of the edge between vertex u and vertex v is defined by, \n",
        "\n",
        "<b>w(u, v) = nint( sqrt( (x(u) -x(v))^2 + (y(u) -y(v))^2))</b>\n",
        "\n",
        "Where nint is a function that rounds a number to the nearest integer. The objective is to find the shortest cycle in the graph where each node is visited exactly once. TSP has obvious applications in route planning and other logistics scenarios, but also in wire routing for printed circuit boards, genome analysis, and many other domains. Because it is easy to explain but computationally challenging, it is often used as a test bed for new algorithms to solve combinatorial problems. </p>"
      ]
    },
    {
      "cell_type": "markdown",
      "metadata": {
        "id": "13QlahhLwZU1"
      },
      "source": [
        "Here, we implement a meta-heuristic solution for the Traveling Salesman Problem using Nearest Neighbour insertion.\n",
        "\n",
        "- Start with randomly selected city and insert each new city into the current tour after the city to which it is closest.\n",
        "- If there is more than one city to which it is closet, insert it after the first such city you encounter."
      ]
    },
    {
      "cell_type": "markdown",
      "metadata": {
        "id": "Bd5-9aId2HC1"
      },
      "source": [
        "The below python program solves a given instance of the traveling salesman problem and implements the Nearest Neighbor Insertion heuristic."
      ]
    },
    {
      "cell_type": "markdown",
      "metadata": {
        "id": "vK6T4aFZ2mZI"
      },
      "source": [
        "<p align = 'justify'><b>Heuristic method\n",
        "\n",
        "Nearest-Neighbor:</b> Choose city at random for start and then repeatedly choose city at random and insert it beside nearest city already on route, until all cities are done. Alternatively, it is also possible to choose city at random for start and then repeatedly choose the nearest city to the last chosen city as next city until all cities are on route.</p>"
      ]
    },
    {
      "cell_type": "markdown",
      "metadata": {
        "id": "9TCLnvInyfej"
      },
      "source": [
        "Import necessary modules"
      ]
    },
    {
      "cell_type": "code",
      "metadata": {
        "id": "sbKjaYk8wGoT"
      },
      "source": [
        "import math\n",
        "import random\n",
        "import sys"
      ],
      "execution_count": null,
      "outputs": []
    },
    {
      "cell_type": "code",
      "metadata": {
        "id": "B91NuV_lQQMM"
      },
      "source": [
        "random.seed(12345)"
      ],
      "execution_count": null,
      "outputs": []
    },
    {
      "cell_type": "markdown",
      "metadata": {
        "id": "tjecAKBXyjXM"
      },
      "source": [
        "Define basic functions"
      ]
    },
    {
      "cell_type": "code",
      "metadata": {
        "id": "PQlkrTihQSnM"
      },
      "source": [
        "def readInstance(fName):\n",
        "    file = open(fName, 'r')\n",
        "    size = int(file.readline())\n",
        "    inst = {}\n",
        "#    for line in file:\n",
        "    for i in range(size):\n",
        "        line=file.readline()\n",
        "        (myid, x, y) = line.split()\n",
        "        inst[int(myid)] = (int(x), int(y))\n",
        "    file.close()\n",
        "    return inst"
      ],
      "execution_count": null,
      "outputs": []
    },
    {
      "cell_type": "code",
      "metadata": {
        "id": "xtamRCuLQl6C"
      },
      "source": [
        "def euclideanDistane(cityA, cityB):\n",
        "    ##Euclidean distance\n",
        "    #return math.sqrt( (cityA[0]-cityB[0])**2 + (cityA[1]-cityB[1])**2 )\n",
        "    ##Rounding nearest integer\n",
        "    return round( math.sqrt( (cityA[0]-cityB[0])**2 + (cityA[1]-cityB[1])**2 ) )"
      ],
      "execution_count": null,
      "outputs": []
    },
    {
      "cell_type": "code",
      "metadata": {
        "id": "JEdrToM4Qmya"
      },
      "source": [
        "# Choose first city randomly, thereafter append nearest unrouted city to last city added to rpute\n",
        "def insertion_heuristic1(instance):\n",
        "    cities = list(instance.keys())\n",
        "    cIndex = random.randint(0, len(instance)-1)\n",
        "\n",
        "    tCost = 0\n",
        "\n",
        "    solution = [cities[cIndex]]\n",
        "    \n",
        "    del cities[cIndex]\n",
        "\n",
        "    current_city = solution[0]\n",
        "    while len(cities) > 0:\n",
        "        bCity = cities[0]\n",
        "        bCost = euclideanDistane(instance[current_city], instance[bCity])\n",
        "        bIndex = 0\n",
        "#        print(bCity,bCost)\n",
        "        for city_index in range(1, len(cities)):\n",
        "            city = cities[city_index]\n",
        "            cost = euclideanDistane(instance[current_city], instance[city])\n",
        "#            print(cities[city_index], \"Cost: \",cost)\n",
        "            if bCost > cost:\n",
        "                bCost = cost\n",
        "                bCity = city\n",
        "                bIndex = city_index\n",
        "        tCost += bCost\n",
        "        current_city = bCity\n",
        "        solution.append(current_city)\n",
        "        del cities[bIndex]\n",
        "    tCost += euclideanDistane(instance[current_city], instance[solution[0]])\n",
        "    return solution, tCost\n"
      ],
      "execution_count": null,
      "outputs": []
    },
    {
      "cell_type": "code",
      "metadata": {
        "id": "JVy-XwoXQq6i"
      },
      "source": [
        "# Choose unrouted city randomly, insert into route after nearest routed city \n",
        "def insertion_heuristic2(instance):\n",
        "    cities = list(instance.keys())\n",
        "    nCities=len(cities)\n",
        "    cIndex = random.randint(0, len(instance)-1)\n",
        "\n",
        "    tCost = 0\n",
        "\n",
        "    solution = [cities[cIndex]]\n",
        "    \n",
        "    del cities[cIndex]\n",
        "\n",
        "    while len(cities) > 0:\n",
        "        cIndex = random.randint(0, len(cities)-1)\n",
        "        nextCity = cities[cIndex]\n",
        "        del cities[cIndex]\n",
        "        bCost = euclideanDistane(instance[solution[0]], instance[nextCity])\n",
        "        bIndex = 0\n",
        "#        print(nextCity,bCost)\n",
        "        for city_index in range(1, len(solution)):\n",
        "            city = solution[city_index]\n",
        "            cost = euclideanDistane(instance[nextCity], instance[city])\n",
        "#            print(solution[city_index], \"Cost: \",cost)\n",
        "            if bCost > cost:\n",
        "                bCost = cost\n",
        "                bIndex = city_index\n",
        "        solution.insert(bIndex+1, nextCity)\n",
        "    for i in range(nCities):\n",
        "        tCost+=euclideanDistane(instance[solution[i]], instance[solution[(i+1)%nCities]])\n",
        "    \n",
        "    return solution, tCost"
      ],
      "execution_count": null,
      "outputs": []
    },
    {
      "cell_type": "code",
      "metadata": {
        "id": "2pAdJGhnQvEK"
      },
      "source": [
        "def saveSolution(fName, solution, cost):\n",
        "    file = open(fName, 'w')\n",
        "    file.write(str(cost)+\"\\n\")\n",
        "    for city in solution:\n",
        "        file.write(str(city)+\"\\n\")\n",
        "    file.close()"
      ],
      "execution_count": null,
      "outputs": []
    },
    {
      "cell_type": "markdown",
      "metadata": {
        "id": "YazixXRiy0E8"
      },
      "source": [
        "Execute Traveling Salesman Problem for different instances"
      ]
    },
    {
      "cell_type": "code",
      "metadata": {
        "id": "B_KUrAe_zR0E"
      },
      "source": [
        "filename = '/content/drive/My Drive/000.Data/TSPData/inst-0.tsp'"
      ],
      "execution_count": null,
      "outputs": []
    },
    {
      "cell_type": "code",
      "metadata": {
        "id": "9ba8hCHNQ2fS",
        "outputId": "8cbdd0bf-cf4d-4217-c12a-48b794516879",
        "colab": {
          "base_uri": "https://localhost:8080/",
          "height": 88
        }
      },
      "source": [
        "solution = insertion_heuristic1(readInstance(filename))\n",
        "print (\"===================\")\n",
        "print (\"Input :\", filename)\n",
        "print (\"Solution: \",solution)\n",
        "saveSolution(output, solution[0], solution[1])\n"
      ],
      "execution_count": null,
      "outputs": [
        {
          "output_type": "stream",
          "text": [
            "===================\n",
            "Input : /content/drive/My Drive/000.Data/TSPData/inst-0.tsp\n",
            "Solution:  ([3, 100, 37, 93, 55, 64, 97, 183, 94, 44, 83, 70, 62, 76, 36, 88, 31, 34, 164, 59, 6, 112, 52, 126, 156, 106, 159, 63, 131, 105, 75, 43, 117, 81, 61, 39, 2, 68, 38, 145, 42, 79, 127, 116, 98, 56, 1, 138, 132, 114, 125, 90, 46, 27, 153, 104, 115, 139, 4, 158, 91, 10, 86, 30, 48, 21, 178, 136, 32, 25, 5, 60, 135, 122, 111, 69, 108, 29, 133, 87, 154, 11, 184, 102, 58, 12, 26, 120, 162, 182, 78, 7, 18, 181, 20, 47, 15, 110, 24, 160, 9, 40, 66, 89, 147, 124, 67, 149, 41, 50, 54, 107, 74, 171, 174, 28, 14, 123, 140, 161, 167, 16, 166, 77, 13, 175, 143, 84, 23, 146, 180, 157, 137, 57, 22, 128, 144, 172, 8, 33, 134, 113, 99, 51, 150, 130, 80, 49, 129, 71, 53, 141, 177, 95, 119, 121, 152, 35, 151, 85, 101, 103, 19, 73, 92, 96, 169, 142, 17, 148, 45, 173, 170, 109, 179, 72, 118, 82, 65, 163, 168, 155, 165, 176], 4314461)\n"
          ],
          "name": "stdout"
        }
      ]
    }
  ]
}