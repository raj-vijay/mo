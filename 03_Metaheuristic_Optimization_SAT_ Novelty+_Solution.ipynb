{
  "nbformat": 4,
  "nbformat_minor": 0,
  "metadata": {
    "colab": {
      "name": "Q1. Metaheuristic Optimization - Novelty+ Solution.ipynb",
      "provenance": [],
      "collapsed_sections": [],
      "mount_file_id": "10PIGvfjs-rQdVhCWVbYuc70nBQn4vze4",
      "authorship_tag": "ABX9TyPUhqMPNaKl2YCZLJ0gLdyN",
      "include_colab_link": true
    },
    "kernelspec": {
      "name": "python3",
      "display_name": "Python 3"
    }
  },
  "cells": [
    {
      "cell_type": "markdown",
      "metadata": {
        "id": "view-in-github",
        "colab_type": "text"
      },
      "source": [
        "<a href=\"https://colab.research.google.com/github/raj-vijay/mo/blob/master/03_Metaheuristic_Optimization_SAT_%20Novelty%2B_Solution.ipynb\" target=\"_parent\"><img src=\"https://colab.research.google.com/assets/colab-badge.svg\" alt=\"Open In Colab\"/></a>"
      ]
    },
    {
      "cell_type": "markdown",
      "metadata": {
        "id": "RudVPDwgslsj"
      },
      "source": [
        "###Metaheuristic Optimization - Novelty+"
      ]
    },
    {
      "cell_type": "markdown",
      "metadata": {
        "id": "XHyoXfUYkHjP"
      },
      "source": [
        "**The satisfiability problem (SAT)**\n",
        "<p align = 'justify'>The satisfiability problem considers the case in which N boolean variables are used to form a Boolean expression involving negation (NOT), conjunction (AND) and disjunction (OR). The problem is to determine whether there is any assignment of values to the Boolean variables which makes the formula true. It's something like trying to flip a bunch of switches to find the setting that makes a light bulb turn on.</p>"
      ]
    },
    {
      "cell_type": "code",
      "metadata": {
        "id": "nwZcAJ9bYW5z"
      },
      "source": [
        "# Import libraries and modules required for the algorithm\n",
        "import sys\n",
        "import random\n",
        "import numpy as np\n",
        "import time\n",
        "import matplotlib.pyplot as plt"
      ],
      "execution_count": null,
      "outputs": []
    },
    {
      "cell_type": "markdown",
      "metadata": {
        "id": "TWjPdF1YO3ry"
      },
      "source": [
        "**CNF Class**\n",
        "\n",
        "Define CNF class to read, process and solve instances of CNF files."
      ]
    },
    {
      "cell_type": "code",
      "metadata": {
        "id": "9NyL3zXGOscc"
      },
      "source": [
        "class CNF():\n",
        "    def __init__(self, cnf_instance, solution_instance):\n",
        "      # Define and initialize the class interface with data varibales required\n",
        "      self.n = 0 # n is the number of variables\n",
        "      self.variables = [] # List of variables in the CNF\n",
        "      self.c = 0 # Number of clauses\n",
        "      self.clauses = {} # Dictionary of clauses\n",
        "      self.e_clauses = {} # Clauses for processing\n",
        "\n",
        "      self.sol = {} # \n",
        "\n",
        "      self.cnf_instance = cnf_instance # instance of the CNF file in DIMACS format\n",
        "      self.read_instance(cnf_instance) # Read CNF Instance"
      ],
      "execution_count": null,
      "outputs": []
    },
    {
      "cell_type": "markdown",
      "metadata": {
        "id": "ExBWWXd4kERc"
      },
      "source": [
        "**CNF Files**\n",
        "<p align = 'justify'>CNF is a data directory which contains examples of files stored using the DIMACS CNF file format. This format is used to define a Boolean expression, written in conjunctive normal form, that may be used as an example of the satisfiability problem. </p>"
      ]
    },
    {
      "cell_type": "markdown",
      "metadata": {
        "id": "sV0KVCHplcnY"
      },
      "source": [
        "Add method to read instances of CNF Files to the CNF Class."
      ]
    },
    {
      "cell_type": "code",
      "metadata": {
        "id": "rXW_mY4RcL3S"
      },
      "source": [
        "class CNF(CNF):\n",
        "  # Define methods to read and process the CNF files, note that some section of this code is based on lab exercises performed earlier during the course\n",
        "  def read_instance(self, cnf_instance):\n",
        "    with open(cnf_instance) as file:\n",
        "      cnf = ''\n",
        "      for line in file.readlines():\n",
        "        if line.startswith('c'): \n",
        "          continue\n",
        "        elif line.startswith('%'): \n",
        "          break\n",
        "        elif line.startswith('p'):\n",
        "          self.n = int(line.split()[2])\n",
        "          self.c = int(line.split()[3])\n",
        "        else:\n",
        "          cnf += line.strip()\n",
        "      self.variables = [v for v in range(1, self.n + 1) ]\n",
        "      for v in self.variables:\n",
        "        self.e_clauses[int(v)] = [] # Inititailze xi\n",
        "        self.e_clauses[int(-v)] = [] # -xi is the negation of xi.\n",
        "      for c in cnf.split(' 0')[:-1]:\n",
        "        cn = tuple(c.split())\n",
        "        self.clauses[cn] = False\n",
        "        for v in cn:\n",
        "          self.e_clauses[int(v)].append(cn)\n",
        "    # Test method\n",
        "    # return variables, clauses"
      ],
      "execution_count": null,
      "outputs": []
    },
    {
      "cell_type": "markdown",
      "metadata": {
        "id": "3873gp3Dm9ck"
      },
      "source": [
        "Define method to derive an initial solution for the SAT problem in CNF.\n",
        "Randomly determine the variable assignment to true or false (0 or 1) and evaluate the resulting clauses to see if the expression is true or false. This is carried out for arriving at an initial solution."
      ]
    },
    {
      "cell_type": "code",
      "metadata": {
        "id": "lqbyFH5beqK9"
      },
      "source": [
        "class CNF(CNF):\n",
        "  # Generate initial solution to the problem\n",
        "  def init(self):\n",
        "    self.sol['assignment'] = []\n",
        "    self.sol['UNSAT'] = 0\n",
        "    # Randomly determine the variable assignment to true or false (0 or 1)\n",
        "    for v in self.variables:\n",
        "      if round(random.uniform(0, 1)):\n",
        "        self.sol['assignment'].append(v)\n",
        "      else:\n",
        "        self.sol['assignment'].append(v * -1)\n",
        "    for c, i in self.clauses.items():\n",
        "      self.clauses[c] = bool(sum([int(v) in self.sol['assignment'] for v in c]))\n",
        "    self.sol['UNSAT'] = self.c - sum([ v for v in self.clauses.values() ]) # Return number of unsatisfied clauses within CNF\n",
        "    # Test method\n",
        "    # return sol"
      ],
      "execution_count": null,
      "outputs": []
    },
    {
      "cell_type": "markdown",
      "metadata": {
        "id": "SC6H5Vx-IoxE"
      },
      "source": [
        "<p align = 'justify'>The novelty + SAT solver is built upon a traditional local search algorithm for SAT solving. It starts with a random truth assignment for the variables, and the local search algorithm uses flips for the most appropriate variable candidate until a solution is found or a given number of flips is reached (MaxFlips), after this process the algorithm restarts itself with a new (fresh) random assignment for the variables.\n",
        "A critical part of the algorithm is the variable selection function (select-variable) which indicates the next variable to be flipped in the current iteration of the algorithm. </p>"
      ]
    },
    {
      "cell_type": "code",
      "metadata": {
        "id": "pJiiUhoVfFrT"
      },
      "source": [
        "class CNF(CNF):\n",
        "  # Method to determing unsatisfied clauses\n",
        "  def unsat_clauses(self):\n",
        "    return [k for k, v in self.clauses.items() if v is False]  \n",
        "  # Method to perform variabele flips and determine gains for the candidate clauses\n",
        "  def flip(self, var):\n",
        "    # Initialize gains\n",
        "    p_gain = 0\n",
        "    n_gain = 0\n",
        "    \n",
        "    i = abs(var) - 1\n",
        "    candidate = self.sol['assignment'].copy()\n",
        "    candidate[i] *= -1\n",
        "    candidate_clauses = self.clauses.copy()\n",
        "    for c in self.e_clauses[candidate[i]]:\n",
        "      candidate_clauses[c] = True\n",
        "      if self.clauses[c] == False:\n",
        "        p_gain += 1\n",
        "    for c in self.e_clauses[-candidate[i]]:\n",
        "      if not sum([int(v) in candidate for v in c]):\n",
        "        candidate_clauses[c] = False\n",
        "        if self.clauses[c] == True:\n",
        "          n_gain += 1\n",
        "    return p_gain, n_gain, candidate_clauses\n",
        "  # Method to return candidate clauses after the flips based on net gain  \n",
        "  def solution(self, flip_variable, update):\n",
        "    self.sol['assignment'][flip_variable - 1] = self.sol['assignment'][flip_variable - 1] * -1\n",
        "    self.sol['UNSAT'] -= update['net_gain']\n",
        "    self.clauses = update['candidate_clauses']\n",
        "  # Method to return unsatisfied clauses\n",
        "  def unsat(self):\n",
        "    return self.sol['UNSAT']\n",
        "  # Method to check if the soultion is satisfiable\n",
        "  def solution_check(self):\n",
        "    for c, i in self.clauses.items():\n",
        "      if not sum([int(v) in self.sol['assignment'] for v in c]):\n",
        "        return False\n",
        "      return True"
      ],
      "execution_count": null,
      "outputs": []
    },
    {
      "cell_type": "markdown",
      "metadata": {
        "id": "Xwb4i3Ai8nHA"
      },
      "source": [
        "**Local Search for SAT**\n",
        "\n",
        "<p align = 'justify'>Algorithm describes a traditional local search algorithm for SAT solving. It starts with a random truth assignment for the variables in F, and in the local search algorithm, the algorithm flips the most appropriate variable candidate until a solution is found or a given number of flips is reached (MaxFlips), after this process the algorithm restarts itself with a new (fresh) random assignment for the variables. A critical part of the algorithm is the variable selection function (select-variable) which indicates the next variable to be flipped in the current iteration of the algorithm.</p>"
      ]
    },
    {
      "cell_type": "markdown",
      "metadata": {
        "id": "g_wewbCwBE0P"
      },
      "source": [
        "**Novelty+** \n",
        "\n",
        "<p align = 'justify'>Novelty+ implementation works as follows:\n",
        "1. Select an unsatisfied uniformly at random clause c\n",
        "2. With some probability wp select a random variable from c, while in the remaining cases use Novelty for variable selection process.\n",
        "\n",
        "Novelty: \n",
        "1. Identify the best (V1) and second best variables (V2) in c (where best is defined in terms of maximal net gain). \n",
        "2. If V1 is not the most recently flipped variable in the clause (“minimal age”), Novelty will select this variable. Otherwise, V1 will be flipped with some probability p and V2 with some probability (1- p).</p>"
      ]
    },
    {
      "cell_type": "code",
      "metadata": {
        "id": "aYaZM0ddOyKr"
      },
      "source": [
        "# Define class for Local Search for the SAT Solver with Novelty+\n",
        "class LS_SAT():\n",
        "  def __init__(self, cnf_instance, restarts, iterations, wp=0, p=0, tl=0):\n",
        "    # Define and initialize the class interface with parameters / data varibales required\n",
        "    self.cnf_instance = cnf_instance # Initialize CNF instance\n",
        "    self.solution_instance = '' # Initialize solution instance\n",
        "    self.restarts = restarts # Restarts\n",
        "    self.iterations = iterations # Iterations\n",
        "    self.wp = wp # Fixed probability wp (aka walk probability or noise setting)\n",
        "    self.p = p # probability p and 1-p (also noise setting)\n",
        "    self.tl = tl # As required\n",
        "    \n",
        "    self.cnf = CNF(self.cnf_instance, self.solution_instance)\n",
        "    self.search_unsat = [] # Search space for UNSAT\n",
        "\n",
        "  def novelty(self, cnf, iteration, lst):\n",
        "    clause = random.choice(cnf.unsat_clauses()) # Select an unsatisfied clause c (uniformly at random)\n",
        "    search_space = {} # Define a search space to process algorithm and store candidate variables and gains\n",
        "    search_space['candidate_variable'] = list(set(abs(int(l)) for l in clause))\n",
        "    search_space['gain'] = []\n",
        "    # Update search space with candidate variables \n",
        "    # Identify the best Vbest and second best variables V2best in c (where best is defined in terms of maximal net gain). \n",
        "    # If Vbest is not the most recently flipped variable in the clause (“minimal age”),\n",
        "    # Novelty will select this variable. Otherwise, Vbest will be flipped with some probability p and V2best with some probability (1- p).\n",
        "    search_space['candidate_variable'][:] = [v for v in search_space['candidate_variable'] if not(lst[v - 1] is not None and (iteration <= lst[v - 1]))]\n",
        "    if len(search_space['candidate_variable']) == 0:\n",
        "      return None, None\n",
        "    # (Positive/Negative/Net Gain) \n",
        "    # Given a candidate variable assignment T for a CNF formula F, let B0 be the total number of clauses that  are currently unsatisfied in F. Let T0 be the state of F if variable V is flipped. Let B1 be the total number of clauses which would be unsatisfied in T0. \n",
        "    # The net gain of V is B1 − B0. The negative gain of V is the number of clauses which are currently satisfied in T, but will become unsatisfied in T0 if V is flipped.\n",
        "    # The positive gain of V is the number of clauses which are currently unsatisfied in T, but will become unsatisfied in T0 if V is flipped.\n",
        "    # https://www.aaai.org/Papers/AAAI/2002/AAAI02-096.pdf\n",
        "    B0 = cnf.unsat()\n",
        "    n_gain_list = []\n",
        "    for v in search_space['candidate_variable']:\n",
        "      p_gain, n_gain, candidate_clauses = cnf.flip(v)\n",
        "      B1 = B0 - p_gain + n_gain\n",
        "      net_gain = B0 - B1\n",
        "      n_gain_list.append(n_gain)\n",
        "      search_space['gain'].append(net_gain)\n",
        "      search_space[v] = {}\n",
        "      search_space[v]['net_gain'] = net_gain\n",
        "      search_space[v]['candidate_clauses'] = candidate_clauses\n",
        "    \n",
        "    flip_variable = ''\n",
        "    n_gain_0 = [i for i, v in enumerate(n_gain_list) if v == 0]\n",
        "    if n_gain_0:\n",
        "      flip_variable = search_space['candidate_variable'][int(random.choice(n_gain_0))]\n",
        "    else:\n",
        "      if random.uniform(0, 1) < self.p:\n",
        "        flip_variable = random.choice(search_space['candidate_variable'])\n",
        "      else:\n",
        "        best_idx = [i for i, v in enumerate(n_gain_list) if v == min(n_gain_list)]\n",
        "        flip_variable = search_space['candidate_variable'][random.choice(best_idx)]\n",
        "\n",
        "    lst[flip_variable - 1] = iteration + self.tl\n",
        "    return flip_variable, search_space"
      ],
      "execution_count": null,
      "outputs": []
    },
    {
      "cell_type": "code",
      "metadata": {
        "id": "gen2MPrAh92_"
      },
      "source": [
        "class LS_SAT(LS_SAT):\n",
        "  def run(self):\n",
        "    for restart in range(0, self.restarts):\n",
        "      self.cnf.init() # Generate an initial solution and check if it is satisfiable\n",
        "      if self.cnf.sol['UNSAT'] == 0:\n",
        "        return (restart, 0, self.cnf.sol['assignment'])\n",
        "      lst = [ None for x in self.cnf.variables ]\n",
        "        # Iterate, filp variables and update the CNF until a solution is found\n",
        "        # That is, there is no unsatisfiable clauses in the CNF\n",
        "      for iteration in range(1, self.iterations + 1):\n",
        "        flip_variable, search_space = self.novelty(self.cnf, iteration, lst)\n",
        "        if flip_variable:\n",
        "          self.cnf.solution(abs(flip_variable), search_space[flip_variable])\n",
        "          if self.cnf.unsat() == 0:\n",
        "            if self.cnf.solution_check():\n",
        "              return (restart, iteration, self.cnf.sol['assignment'])\n",
        "            else:\n",
        "              return (restart, iteration, 'No solution found.')\n",
        "      return (self.restarts, self.iterations, None)"
      ],
      "execution_count": null,
      "outputs": []
    },
    {
      "cell_type": "code",
      "metadata": {
        "id": "jmET2taqUk0A"
      },
      "source": [
        "#100000 iterations limit or 1 minute\n",
        "iterations = 100000"
      ],
      "execution_count": null,
      "outputs": []
    },
    {
      "cell_type": "code",
      "metadata": {
        "id": "mb3riZzhOpIr"
      },
      "source": [
        "# Use 1 for no restarts, the algorithm aims to find global maximum \n",
        "restarts = 1"
      ],
      "execution_count": null,
      "outputs": []
    },
    {
      "cell_type": "code",
      "metadata": {
        "id": "diyE41A0dxpx"
      },
      "source": [
        "# Baseline parameters\n",
        "wp = 0.4"
      ],
      "execution_count": null,
      "outputs": []
    },
    {
      "cell_type": "code",
      "metadata": {
        "id": "lfTVPRpQjdII"
      },
      "source": [
        "# p (for Novelty+) = 0.3\n",
        "p = 0.3"
      ],
      "execution_count": null,
      "outputs": []
    },
    {
      "cell_type": "code",
      "metadata": {
        "id": "xO6LobNkjuDs"
      },
      "source": [
        "tl = 10"
      ],
      "execution_count": null,
      "outputs": []
    },
    {
      "cell_type": "markdown",
      "metadata": {
        "id": "PRr5G6UGs3-t"
      },
      "source": [
        "**Run Local Search with Novelty+ for both CNF Instances**"
      ]
    },
    {
      "cell_type": "code",
      "metadata": {
        "id": "d4M8Z57ggsQ_"
      },
      "source": [
        "cnf_instances = []"
      ],
      "execution_count": null,
      "outputs": []
    },
    {
      "cell_type": "code",
      "metadata": {
        "id": "oyg8PpfugyCY",
        "colab": {
          "base_uri": "https://localhost:8080/",
          "height": 34
        },
        "outputId": "e8f0fc78-a99f-4153-fadb-543e4df78bdc"
      },
      "source": [
        "# Secured google drive file system intergation with google colab to enable cloud native implementation\n",
        "path = '/content/drive/My Drive/000.Data/MOData/uf20-0'\n",
        "for i in range(2):\n",
        "  cnf_instances.append(path + str(i+1) + '.cnf')\n",
        "print(cnf_instances)"
      ],
      "execution_count": null,
      "outputs": [
        {
          "output_type": "stream",
          "text": [
            "['/content/drive/My Drive/000.Data/MOData/uf20-01.cnf', '/content/drive/My Drive/000.Data/MOData/uf20-02.cnf']\n"
          ],
          "name": "stdout"
        }
      ]
    },
    {
      "cell_type": "code",
      "metadata": {
        "id": "cyYYmchgpEMk"
      },
      "source": [
        "# Uncomment below section for non-secure / public cloud native integration from github\n",
        "# CNF files uploaded to github are downloaded to the local filesystem in colab\n",
        "#!wget 'https://raw.githubusercontent.com/raj-vijay/mo/master/Files/uf20-01.cnf'\n",
        "#!wget 'https://raw.githubusercontent.com/raj-vijay/mo/master/Files/uf20-02.cnf'"
      ],
      "execution_count": null,
      "outputs": []
    },
    {
      "cell_type": "code",
      "metadata": {
        "id": "mH0qVBuSoGyG"
      },
      "source": [
        "# Uncomment and use the below code for non-secure / public cloud native integration from github\n",
        "# path = '/content/uf20-0'\n",
        "# cnf_instances = []\n",
        "# for i in range(2):\n",
        "#   cnf_instances.append(path + str(i+1) + '.cnf')\n",
        "# print(cnf_instances)"
      ],
      "execution_count": null,
      "outputs": []
    },
    {
      "cell_type": "code",
      "metadata": {
        "id": "lAWoAUz4he0c"
      },
      "source": [
        "solution_set= []\n",
        "run_set = []\n",
        "duration_set = []\n",
        "iteration_set = []\n",
        "total_set = []\n",
        "novelty = []"
      ],
      "execution_count": null,
      "outputs": []
    },
    {
      "cell_type": "code",
      "metadata": {
        "id": "B9fwyOyddDG3"
      },
      "source": [
        "for instance in cnf_instances:\n",
        "  novelty.append(LS_SAT(instance, restarts, iterations, p=p, tl=tl))\n",
        "  solution_set.append([])\n",
        "  run_set.append([])\n",
        "  duration_set.append([])\n",
        "  iteration_set.append([])\n",
        "  total_set.append([])"
      ],
      "execution_count": null,
      "outputs": []
    },
    {
      "cell_type": "code",
      "metadata": {
        "id": "CxLoz9ONijK4"
      },
      "source": [
        "runs = 1000\n",
        "for i in range(2):  \n",
        "  for run in range(runs):\n",
        "    # Capture CPU Clocktime\n",
        "    start_time = time.CLOCK_PROCESS_CPUTIME_ID\n",
        "    \n",
        "    # Individual Search Run\n",
        "    restart, iteration, solution = novelty[i].run()\n",
        "\n",
        "    # Compute CPU clocktimes for search durations / runtimes\n",
        "    duration = int((time.process_time() - start_time))\n",
        "    \n",
        "    # For searches leading to a solution for the SAT problem, append the solution set, runs, durations, and iterations\n",
        "    if solution:\n",
        "        solution_set[i].append(solution)\n",
        "        run_set[i].append(run)\n",
        "        duration_set[i].append(duration)\n",
        "        iteration_set[i].append(iteration)\n",
        "        total_set[i].append(restart*iterations + iteration)"
      ],
      "execution_count": null,
      "outputs": []
    },
    {
      "cell_type": "markdown",
      "metadata": {
        "id": "lAeHQbu3UXRq"
      },
      "source": [
        "**Statistics for CNF Instance: uf20-01**"
      ]
    },
    {
      "cell_type": "code",
      "metadata": {
        "id": "pBAqa67fi-p2",
        "colab": {
          "base_uri": "https://localhost:8080/",
          "height": 312
        },
        "outputId": "0d7914fc-1c1d-4717-d307-c18f1c339249"
      },
      "source": [
        "plt.plot(run_set[0], np.cumsum(total_set[0]))\n",
        "plt.title('Total Iterations')\n",
        "plt.xlabel('Runs')\n",
        "plt.ylabel('Iterations')"
      ],
      "execution_count": null,
      "outputs": [
        {
          "output_type": "execute_result",
          "data": {
            "text/plain": [
              "Text(0, 0.5, 'Iterations')"
            ]
          },
          "metadata": {
            "tags": []
          },
          "execution_count": 20
        },
        {
          "output_type": "display_data",
          "data": {
            "image/png": "[encoded data removed]",
            "text/plain": [
              "<Figure size 432x288 with 1 Axes>"
            ]
          },
          "metadata": {
            "tags": [],
            "needs_background": "light"
          }
        }
      ]
    },
    {
      "cell_type": "code",
      "metadata": {
        "id": "hbNJ4U8djDuW",
        "colab": {
          "base_uri": "https://localhost:8080/",
          "height": 312
        },
        "outputId": "fd8c5161-2d42-4d06-d914-d78a2cb4036d"
      },
      "source": [
        "plt.plot(run_set[0], sorted(iteration_set[0]))\n",
        "plt.title('Iterations to solve')\n",
        "plt.xlabel('Runs')\n",
        "plt.ylabel('Iterations')"
      ],
      "execution_count": null,
      "outputs": [
        {
          "output_type": "execute_result",
          "data": {
            "text/plain": [
              "Text(0, 0.5, 'Iterations')"
            ]
          },
          "metadata": {
            "tags": []
          },
          "execution_count": 21
        },
        {
          "output_type": "display_data",
          "data": {
            "image/png": "[encoded data removed]",
            "text/plain": [
              "<Figure size 432x288 with 1 Axes>"
            ]
          },
          "metadata": {
            "tags": [],
            "needs_background": "light"
          }
        }
      ]
    },
    {
      "cell_type": "code",
      "metadata": {
        "id": "_j8LZApQjJZ2",
        "colab": {
          "base_uri": "https://localhost:8080/",
          "height": 312
        },
        "outputId": "d3ab344f-f508-4e81-be93-295be25c14a1"
      },
      "source": [
        "plt.plot(sorted(total_set[0]), np.arange(0, len(total_set[0])))\n",
        "plt.title('Run Length / Search Steps')\n",
        "plt.xlabel('Iterations')\n",
        "plt.ylabel('P(Solve)')"
      ],
      "execution_count": null,
      "outputs": [
        {
          "output_type": "execute_result",
          "data": {
            "text/plain": [
              "Text(0, 0.5, 'P(Solve)')"
            ]
          },
          "metadata": {
            "tags": []
          },
          "execution_count": 22
        },
        {
          "output_type": "display_data",
          "data": {
            "image/png": "[encoded data removed]",
            "text/plain": [
              "<Figure size 432x288 with 1 Axes>"
            ]
          },
          "metadata": {
            "tags": [],
            "needs_background": "light"
          }
        }
      ]
    },
    {
      "cell_type": "code",
      "metadata": {
        "id": "PaSaEZmLjOO_",
        "colab": {
          "base_uri": "https://localhost:8080/",
          "height": 312
        },
        "outputId": "25baecea-4ce8-46c5-c6a8-a9bef6e3d63a"
      },
      "source": [
        "plt.plot(sorted(duration_set[0]), np.arange(0, len(total_set[0])))\n",
        "plt.title('Run Times')\n",
        "plt.xlabel('CPU Clocktime')\n",
        "plt.ylabel('P(Solve)')"
      ],
      "execution_count": null,
      "outputs": [
        {
          "output_type": "execute_result",
          "data": {
            "text/plain": [
              "Text(0, 0.5, 'P(Solve)')"
            ]
          },
          "metadata": {
            "tags": []
          },
          "execution_count": 23
        },
        {
          "output_type": "display_data",
          "data": {
            "image/png": "[encoded data removed]",
            "text/plain": [
              "<Figure size 432x288 with 1 Axes>"
            ]
          },
          "metadata": {
            "tags": [],
            "needs_background": "light"
          }
        }
      ]
    },
    {
      "cell_type": "markdown",
      "metadata": {
        "id": "yP8Vmcrnjzng"
      },
      "source": [
        "**Statistics for CNF Instance: uf20-02**"
      ]
    },
    {
      "cell_type": "code",
      "metadata": {
        "id": "He7TDgBhPRyu",
        "colab": {
          "base_uri": "https://localhost:8080/",
          "height": 312
        },
        "outputId": "9bebbde7-0b2f-4690-b0a4-384d495d6d20"
      },
      "source": [
        "plt.plot(run_set[1], np.cumsum(total_set[1]))\n",
        "plt.title('Total Iterations')\n",
        "plt.xlabel('Runs')\n",
        "plt.ylabel('Iterations')"
      ],
      "execution_count": null,
      "outputs": [
        {
          "output_type": "execute_result",
          "data": {
            "text/plain": [
              "Text(0, 0.5, 'Iterations')"
            ]
          },
          "metadata": {
            "tags": []
          },
          "execution_count": 24
        },
        {
          "output_type": "display_data",
          "data": {
            "image/png": "[encoded data removed]",
            "text/plain": [
              "<Figure size 432x288 with 1 Axes>"
            ]
          },
          "metadata": {
            "tags": [],
            "needs_background": "light"
          }
        }
      ]
    },
    {
      "cell_type": "code",
      "metadata": {
        "id": "gke54jvrQrnu",
        "colab": {
          "base_uri": "https://localhost:8080/",
          "height": 312
        },
        "outputId": "1e9f6f03-38cb-4f8c-9851-1dcac4d12ced"
      },
      "source": [
        "plt.plot(run_set[1], sorted(iteration_set[1]))\n",
        "plt.title('Iterations to solve')\n",
        "plt.xlabel('Runs')\n",
        "plt.ylabel('Iterations')"
      ],
      "execution_count": null,
      "outputs": [
        {
          "output_type": "execute_result",
          "data": {
            "text/plain": [
              "Text(0, 0.5, 'Iterations')"
            ]
          },
          "metadata": {
            "tags": []
          },
          "execution_count": 25
        },
        {
          "output_type": "display_data",
          "data": {
            "image/png": "[encoded data removed]",
            "text/plain": [
              "<Figure size 432x288 with 1 Axes>"
            ]
          },
          "metadata": {
            "tags": [],
            "needs_background": "light"
          }
        }
      ]
    },
    {
      "cell_type": "code",
      "metadata": {
        "id": "8ytabkd5ZC1G",
        "colab": {
          "base_uri": "https://localhost:8080/",
          "height": 312
        },
        "outputId": "9137734d-2fba-42ba-d18c-729a7a05e250"
      },
      "source": [
        "plt.plot(sorted(total_set[1]), np.arange(0, len(total_set[1])))\n",
        "plt.title('Run Length / Search Steps')\n",
        "plt.xlabel('Iterations')\n",
        "plt.ylabel('P(Solve)')"
      ],
      "execution_count": null,
      "outputs": [
        {
          "output_type": "execute_result",
          "data": {
            "text/plain": [
              "Text(0, 0.5, 'P(Solve)')"
            ]
          },
          "metadata": {
            "tags": []
          },
          "execution_count": 26
        },
        {
          "output_type": "display_data",
          "data": {
            "image/png": "[encoded data removed]",
            "text/plain": [
              "<Figure size 432x288 with 1 Axes>"
            ]
          },
          "metadata": {
            "tags": [],
            "needs_background": "light"
          }
        }
      ]
    },
    {
      "cell_type": "code",
      "metadata": {
        "id": "9fA-agdhMZtQ",
        "colab": {
          "base_uri": "https://localhost:8080/",
          "height": 312
        },
        "outputId": "fd747f29-f202-42d1-8ab3-49fa4591966b"
      },
      "source": [
        "plt.plot(sorted(duration_set[1]), np.arange(0, len(total_set[1])))\n",
        "plt.title('Run Times')\n",
        "plt.xlabel('CPU Clocktime')\n",
        "plt.ylabel('P(Solve)')"
      ],
      "execution_count": null,
      "outputs": [
        {
          "output_type": "execute_result",
          "data": {
            "text/plain": [
              "Text(0, 0.5, 'P(Solve)')"
            ]
          },
          "metadata": {
            "tags": []
          },
          "execution_count": 27
        },
        {
          "output_type": "display_data",
          "data": {
            "image/png": "[encoded data removed]",
            "text/plain": [
              "<Figure size 432x288 with 1 Axes>"
            ]
          },
          "metadata": {
            "tags": [],
            "needs_background": "light"
          }
        }
      ]
    }
  ]
}